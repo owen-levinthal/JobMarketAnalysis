{
 "cells": [
  {
   "cell_type": "code",
   "execution_count": null,
   "metadata": {},
   "outputs": [],
   "source": [
    "from selenium import webdriver\n",
    "from selenium.webdriver.chrome.options import Options\n",
    "from selenium.webdriver.common.by import By\n",
    "import time\n",
    "import pandas as pd\n",
    "import numpy as np\n",
    "import pickle"
   ]
  },
  {
   "cell_type": "code",
   "execution_count": null,
   "metadata": {},
   "outputs": [],
   "source": [
    "\n",
    "DRIVER_PATH = \"C:/Users/levin/Desktop/chromedriver.exe\"\n",
    "driver = webdriver.Chrome()\n",
    "\n",
    "website = 'https://www.indeed.com/jobs?q=Data+Analyst'\n",
    "driver.get(website)\n",
    "time.sleep(3)\n",
    "\n",
    "job_links = []\n",
    "flag = True\n",
    "while flag == True:\n",
    "    list_of_cards = driver.find_elements(By.XPATH, '//a[contains(@class,\"jcs-JobTitle\")]')\n",
    "    for element in list_of_cards:\n",
    "        job_links.append(element.get_attribute('href'))\n",
    "    time.sleep(2)\n",
    "    try:\n",
    "        button = driver.find_element(By.XPATH, '//a[contains(@data-testid,\"pagination-page-next\")]')\n",
    "        link = button.get_attribute('href')\n",
    "        driver.get(link)\n",
    "    except:\n",
    "        flag = False\n"
   ]
  },
  {
   "cell_type": "code",
   "execution_count": null,
   "metadata": {},
   "outputs": [],
   "source": [
    "job_attributes = pd.DataFrame(columns = ['job_details','benefits','full_desc','hiring_ins'])       \n",
    "driver2 = webdriver.Chrome()\n",
    "for link in job_links:\n",
    "\n",
    "    job_attributes_list = []\n",
    "    \n",
    "    driver2.get(link)\n",
    "    time.sleep(2)\n",
    "    \n",
    "    print('---')\n",
    "    \n",
    "    #job details\n",
    "    try:\n",
    "        print(driver2.find_element(By.XPATH, '//div[contains(@id,\"jobDetailsSection\")]').text)\n",
    "        job_attributes_list.append(driver2.find_element(By.XPATH, '//div[contains(@id,\"jobDetailsSection\")]').text)\n",
    "        \n",
    "    except:\n",
    "        print(\"fail: job_deatils\")\n",
    "        job_attributes_list.append(np.nan)\n",
    "\n",
    "    print('---')  \n",
    "\n",
    "\n",
    "    #benifits\n",
    "    try:\n",
    "        try:\n",
    "            benifits_element = driver2.find_element(By.XPATH, '//div[contains(@id,\"benefits\")]')\n",
    "            benifits_element.find_element(By.TAG_NAME, 'button').click()\n",
    "        except:\n",
    "            print('fail: find or click button')\n",
    "        benifits_element = driver2.find_element(By.XPATH, '//div[contains(@id,\"benefits\")]')\n",
    "        print(benifits_element.text)\n",
    "        job_attributes_list.append(benifits_element.text)\n",
    "    except:\n",
    "        print('fail: benifits')\n",
    "        job_attributes_list.append(np.nan)\n",
    "\n",
    "\n",
    "    print('---')\n",
    "\n",
    "\n",
    "    #full job description\n",
    "    try:\n",
    "        print(driver2.find_element(By.XPATH, '//div[contains(@id,\"jobDescriptionText\")]').text)\n",
    "        job_attributes_list.append(driver2.find_element(By.XPATH, '//div[contains(@id,\"jobDescriptionText\")]').text)\n",
    "    except:\n",
    "        print(\"fail: full job description\")\n",
    "        job_attributes_list.append(np.nan)\n",
    "\n",
    "    print('---')\n",
    "\n",
    "    #hiring insights\n",
    "    try:\n",
    "        print(driver2.find_element(By.XPATH, '//div[contains(@class,\"css-q7fux eu4oa1w0\")]').text) #does this path work for all hiring insights?\n",
    "        job_attributes_list.append(driver2.find_element(By.XPATH, '//div[contains(@class,\"css-q7fux eu4oa1w0\")]').text)\n",
    "    except:\n",
    "        print(\"fail: hiring insights\")\n",
    "        job_attributes_list.append(np.nan)\n",
    "        \n",
    "    job_attributes.loc[len(job_attributes)] = job_attributes_list\n",
    "    \n"
   ]
  },
  {
   "cell_type": "code",
   "execution_count": null,
   "metadata": {},
   "outputs": [],
   "source": [
    "job_attributes.to_csv('indeed_data.csv')"
   ]
  }
 ],
 "metadata": {
  "kernelspec": {
   "display_name": "Python 3 (ipykernel)",
   "language": "python",
   "name": "python3"
  },
  "language_info": {
   "codemirror_mode": {
    "name": "ipython",
    "version": 3
   },
   "file_extension": ".py",
   "mimetype": "text/x-python",
   "name": "python",
   "nbconvert_exporter": "python",
   "pygments_lexer": "ipython3",
   "version": "3.11.5"
  }
 },
 "nbformat": 4,
 "nbformat_minor": 4
}
